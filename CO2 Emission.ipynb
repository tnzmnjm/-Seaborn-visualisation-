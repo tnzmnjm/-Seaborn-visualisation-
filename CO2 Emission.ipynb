{
 "cells": [
  {
   "cell_type": "code",
   "execution_count": 1,
   "metadata": {
    "collapsed": true
   },
   "outputs": [],
   "source": [
    "import numpy as np\n",
    "import pandas as pd\n",
    "import seaborn as sns\n",
    "import matplotlib.pyplot as plt\n",
    "\n",
    "%matplotlib inline"
   ]
  },
  {
   "cell_type": "markdown",
   "metadata": {},
   "source": [
    "# Importing the CSV files\n",
    "\n",
    "This CSV file is available on [Iran`s dataset in World bank](https://www.worldbank.org/en/country/iran) and [Turkey`s dataset](https://www.worldbank.org/en/country/turkey) in the same website . I cleaned this data using LibreOffice and kept the important rows to prevent complexity in my code. "
   ]
  },
  {
   "cell_type": "code",
   "execution_count": 2,
   "metadata": {
    "collapsed": false,
    "scrolled": true
   },
   "outputs": [
    {
     "data": {
      "text/html": [
       "<div>\n",
       "<table border=\"1\" class=\"dataframe\">\n",
       "  <thead>\n",
       "    <tr style=\"text-align: right;\">\n",
       "      <th></th>\n",
       "      <th>Iran</th>\n",
       "      <th>1960</th>\n",
       "      <th>1961</th>\n",
       "      <th>1962</th>\n",
       "      <th>1963</th>\n",
       "      <th>1964</th>\n",
       "      <th>1965</th>\n",
       "      <th>1966</th>\n",
       "      <th>1967</th>\n",
       "      <th>1968</th>\n",
       "      <th>...</th>\n",
       "      <th>2007</th>\n",
       "      <th>2008</th>\n",
       "      <th>2009</th>\n",
       "      <th>2010</th>\n",
       "      <th>2011</th>\n",
       "      <th>2012</th>\n",
       "      <th>2013</th>\n",
       "      <th>2014</th>\n",
       "      <th>2015</th>\n",
       "      <th>2016</th>\n",
       "    </tr>\n",
       "  </thead>\n",
       "  <tbody>\n",
       "    <tr>\n",
       "      <th>0</th>\n",
       "      <td>CO2 emissions from gaseous fuel consumption (kt)</td>\n",
       "      <td>1840.834</td>\n",
       "      <td>1903.173</td>\n",
       "      <td>2038.852</td>\n",
       "      <td>2207.534</td>\n",
       "      <td>2310.210</td>\n",
       "      <td>2379.883</td>\n",
       "      <td>2684.244</td>\n",
       "      <td>2841.925</td>\n",
       "      <td>3039.943</td>\n",
       "      <td>...</td>\n",
       "      <td>236712.184</td>\n",
       "      <td>250100.401</td>\n",
       "      <td>262216.169</td>\n",
       "      <td>277448.887</td>\n",
       "      <td>293510.347</td>\n",
       "      <td>291482.496</td>\n",
       "      <td>295175.165</td>\n",
       "      <td>NaN</td>\n",
       "      <td>NaN</td>\n",
       "      <td>NaN</td>\n",
       "    </tr>\n",
       "    <tr>\n",
       "      <th>1</th>\n",
       "      <td>CO2 emissions from liquid fuel consumption (kt)</td>\n",
       "      <td>21855.320</td>\n",
       "      <td>19339.758</td>\n",
       "      <td>18723.702</td>\n",
       "      <td>20289.511</td>\n",
       "      <td>23589.811</td>\n",
       "      <td>24645.907</td>\n",
       "      <td>26329.060</td>\n",
       "      <td>27630.845</td>\n",
       "      <td>36530.654</td>\n",
       "      <td>...</td>\n",
       "      <td>266942.932</td>\n",
       "      <td>271479.011</td>\n",
       "      <td>269322.815</td>\n",
       "      <td>259905.959</td>\n",
       "      <td>253983.754</td>\n",
       "      <td>278581.990</td>\n",
       "      <td>246620.418</td>\n",
       "      <td>NaN</td>\n",
       "      <td>NaN</td>\n",
       "      <td>NaN</td>\n",
       "    </tr>\n",
       "    <tr>\n",
       "      <th>2</th>\n",
       "      <td>CO2 emissions from solid fuel consumption (kt)</td>\n",
       "      <td>612.389</td>\n",
       "      <td>524.381</td>\n",
       "      <td>542.716</td>\n",
       "      <td>605.055</td>\n",
       "      <td>726.066</td>\n",
       "      <td>755.402</td>\n",
       "      <td>755.402</td>\n",
       "      <td>770.070</td>\n",
       "      <td>788.405</td>\n",
       "      <td>...</td>\n",
       "      <td>6582.265</td>\n",
       "      <td>5863.533</td>\n",
       "      <td>4396.733</td>\n",
       "      <td>5452.829</td>\n",
       "      <td>5317.150</td>\n",
       "      <td>4129.042</td>\n",
       "      <td>4253.720</td>\n",
       "      <td>NaN</td>\n",
       "      <td>NaN</td>\n",
       "      <td>NaN</td>\n",
       "    </tr>\n",
       "  </tbody>\n",
       "</table>\n",
       "<p>3 rows × 58 columns</p>\n",
       "</div>"
      ],
      "text/plain": [
       "                                               Iran       1960       1961  \\\n",
       "0  CO2 emissions from gaseous fuel consumption (kt)   1840.834   1903.173   \n",
       "1   CO2 emissions from liquid fuel consumption (kt)  21855.320  19339.758   \n",
       "2    CO2 emissions from solid fuel consumption (kt)    612.389    524.381   \n",
       "\n",
       "        1962       1963       1964       1965       1966       1967  \\\n",
       "0   2038.852   2207.534   2310.210   2379.883   2684.244   2841.925   \n",
       "1  18723.702  20289.511  23589.811  24645.907  26329.060  27630.845   \n",
       "2    542.716    605.055    726.066    755.402    755.402    770.070   \n",
       "\n",
       "        1968  ...         2007        2008        2009        2010  \\\n",
       "0   3039.943  ...   236712.184  250100.401  262216.169  277448.887   \n",
       "1  36530.654  ...   266942.932  271479.011  269322.815  259905.959   \n",
       "2    788.405  ...     6582.265    5863.533    4396.733    5452.829   \n",
       "\n",
       "         2011        2012        2013  2014  2015  2016  \n",
       "0  293510.347  291482.496  295175.165   NaN   NaN   NaN  \n",
       "1  253983.754  278581.990  246620.418   NaN   NaN   NaN  \n",
       "2    5317.150    4129.042    4253.720   NaN   NaN   NaN  \n",
       "\n",
       "[3 rows x 58 columns]"
      ]
     },
     "execution_count": 2,
     "metadata": {},
     "output_type": "execute_result"
    }
   ],
   "source": [
    "# Importing Iran`s dataset \n",
    "IRAN_SOURCE_FILE = 'iran_emission_dataset.csv'\n",
    "iran_csv = pd.read_csv(IRAN_SOURCE_FILE)\n",
    "iran_csv.head(5)\n"
   ]
  },
  {
   "cell_type": "code",
   "execution_count": 3,
   "metadata": {
    "collapsed": false
   },
   "outputs": [
    {
     "data": {
      "text/html": [
       "<div>\n",
       "<table border=\"1\" class=\"dataframe\">\n",
       "  <thead>\n",
       "    <tr style=\"text-align: right;\">\n",
       "      <th></th>\n",
       "      <th>Turkey</th>\n",
       "      <th>1960</th>\n",
       "      <th>1961</th>\n",
       "      <th>1962</th>\n",
       "      <th>1963</th>\n",
       "      <th>1964</th>\n",
       "      <th>1965</th>\n",
       "      <th>1966</th>\n",
       "      <th>1967</th>\n",
       "      <th>1968</th>\n",
       "      <th>...</th>\n",
       "      <th>2007</th>\n",
       "      <th>2008</th>\n",
       "      <th>2009</th>\n",
       "      <th>2010</th>\n",
       "      <th>2011</th>\n",
       "      <th>2012</th>\n",
       "      <th>2013</th>\n",
       "      <th>2014</th>\n",
       "      <th>2015</th>\n",
       "      <th>2016</th>\n",
       "    </tr>\n",
       "  </thead>\n",
       "  <tbody>\n",
       "    <tr>\n",
       "      <th>0</th>\n",
       "      <td>CO2 emissions from gaseous fuel consumption (kt)</td>\n",
       "      <td>0.00</td>\n",
       "      <td>0.000</td>\n",
       "      <td>0.000</td>\n",
       "      <td>0.000</td>\n",
       "      <td>0.000</td>\n",
       "      <td>0.000</td>\n",
       "      <td>0.000</td>\n",
       "      <td>0.000</td>\n",
       "      <td>0.000</td>\n",
       "      <td>...</td>\n",
       "      <td>69680.334</td>\n",
       "      <td>69152.286</td>\n",
       "      <td>66229.687</td>\n",
       "      <td>71906.203</td>\n",
       "      <td>84256.659</td>\n",
       "      <td>85342.091</td>\n",
       "      <td>86013.152</td>\n",
       "      <td>NaN</td>\n",
       "      <td>NaN</td>\n",
       "      <td>NaN</td>\n",
       "    </tr>\n",
       "    <tr>\n",
       "      <th>1</th>\n",
       "      <td>CO2 emissions from liquid fuel consumption (kt)</td>\n",
       "      <td>4473.74</td>\n",
       "      <td>5720.520</td>\n",
       "      <td>8566.112</td>\n",
       "      <td>8353.426</td>\n",
       "      <td>10498.621</td>\n",
       "      <td>11536.382</td>\n",
       "      <td>13732.915</td>\n",
       "      <td>16362.154</td>\n",
       "      <td>18610.025</td>\n",
       "      <td>...</td>\n",
       "      <td>76464.284</td>\n",
       "      <td>74539.109</td>\n",
       "      <td>68074.188</td>\n",
       "      <td>70428.402</td>\n",
       "      <td>74524.441</td>\n",
       "      <td>76948.328</td>\n",
       "      <td>76145.255</td>\n",
       "      <td>NaN</td>\n",
       "      <td>NaN</td>\n",
       "      <td>NaN</td>\n",
       "    </tr>\n",
       "    <tr>\n",
       "      <th>2</th>\n",
       "      <td>CO2 emissions from solid fuel consumption (kt)</td>\n",
       "      <td>11331.03</td>\n",
       "      <td>10630.633</td>\n",
       "      <td>11906.749</td>\n",
       "      <td>12970.179</td>\n",
       "      <td>14370.973</td>\n",
       "      <td>14194.957</td>\n",
       "      <td>15885.444</td>\n",
       "      <td>15045.701</td>\n",
       "      <td>15350.062</td>\n",
       "      <td>...</td>\n",
       "      <td>113798.011</td>\n",
       "      <td>114634.087</td>\n",
       "      <td>116621.601</td>\n",
       "      <td>124377.306</td>\n",
       "      <td>130435.190</td>\n",
       "      <td>135411.309</td>\n",
       "      <td>125708.427</td>\n",
       "      <td>NaN</td>\n",
       "      <td>NaN</td>\n",
       "      <td>NaN</td>\n",
       "    </tr>\n",
       "  </tbody>\n",
       "</table>\n",
       "<p>3 rows × 58 columns</p>\n",
       "</div>"
      ],
      "text/plain": [
       "                                             Turkey      1960       1961  \\\n",
       "0  CO2 emissions from gaseous fuel consumption (kt)      0.00      0.000   \n",
       "1   CO2 emissions from liquid fuel consumption (kt)   4473.74   5720.520   \n",
       "2    CO2 emissions from solid fuel consumption (kt)  11331.03  10630.633   \n",
       "\n",
       "        1962       1963       1964       1965       1966       1967  \\\n",
       "0      0.000      0.000      0.000      0.000      0.000      0.000   \n",
       "1   8566.112   8353.426  10498.621  11536.382  13732.915  16362.154   \n",
       "2  11906.749  12970.179  14370.973  14194.957  15885.444  15045.701   \n",
       "\n",
       "        1968  ...         2007        2008        2009        2010  \\\n",
       "0      0.000  ...    69680.334   69152.286   66229.687   71906.203   \n",
       "1  18610.025  ...    76464.284   74539.109   68074.188   70428.402   \n",
       "2  15350.062  ...   113798.011  114634.087  116621.601  124377.306   \n",
       "\n",
       "         2011        2012        2013  2014  2015  2016  \n",
       "0   84256.659   85342.091   86013.152   NaN   NaN   NaN  \n",
       "1   74524.441   76948.328   76145.255   NaN   NaN   NaN  \n",
       "2  130435.190  135411.309  125708.427   NaN   NaN   NaN  \n",
       "\n",
       "[3 rows x 58 columns]"
      ]
     },
     "execution_count": 3,
     "metadata": {},
     "output_type": "execute_result"
    }
   ],
   "source": [
    "# Importing Turkey`s dataset\n",
    "TURKEY_SOURCE_FILE = 'turkey_emission_dataset.csv'\n",
    "turkey_csv = pd.read_csv(TURKEY_SOURCE_FILE)\n",
    "turkey_csv.head(5)"
   ]
  },
  {
   "cell_type": "markdown",
   "metadata": {},
   "source": [
    "As I wanted the emission types be my coloumns and the years be the rows, I used `transpose()` function. Some data was missing for the last three years which I substituded their value by zero."
   ]
  },
  {
   "cell_type": "code",
   "execution_count": 4,
   "metadata": {
    "collapsed": false
   },
   "outputs": [
    {
     "data": {
      "text/html": [
       "<div>\n",
       "<table border=\"1\" class=\"dataframe\">\n",
       "  <thead>\n",
       "    <tr style=\"text-align: right;\">\n",
       "      <th>Iran</th>\n",
       "      <th>CO2 emissions from gaseous fuel consumption (kt)</th>\n",
       "      <th>CO2 emissions from liquid fuel consumption (kt)</th>\n",
       "      <th>CO2 emissions from solid fuel consumption (kt)</th>\n",
       "    </tr>\n",
       "  </thead>\n",
       "  <tbody>\n",
       "    <tr>\n",
       "      <th>1960</th>\n",
       "      <td>1840.83</td>\n",
       "      <td>21855.3</td>\n",
       "      <td>612.389</td>\n",
       "    </tr>\n",
       "    <tr>\n",
       "      <th>1961</th>\n",
       "      <td>1903.17</td>\n",
       "      <td>19339.8</td>\n",
       "      <td>524.381</td>\n",
       "    </tr>\n",
       "    <tr>\n",
       "      <th>1962</th>\n",
       "      <td>2038.85</td>\n",
       "      <td>18723.7</td>\n",
       "      <td>542.716</td>\n",
       "    </tr>\n",
       "    <tr>\n",
       "      <th>1963</th>\n",
       "      <td>2207.53</td>\n",
       "      <td>20289.5</td>\n",
       "      <td>605.055</td>\n",
       "    </tr>\n",
       "    <tr>\n",
       "      <th>1964</th>\n",
       "      <td>2310.21</td>\n",
       "      <td>23589.8</td>\n",
       "      <td>726.066</td>\n",
       "    </tr>\n",
       "  </tbody>\n",
       "</table>\n",
       "</div>"
      ],
      "text/plain": [
       "Iran CO2 emissions from gaseous fuel consumption (kt)  \\\n",
       "1960                                          1840.83   \n",
       "1961                                          1903.17   \n",
       "1962                                          2038.85   \n",
       "1963                                          2207.53   \n",
       "1964                                          2310.21   \n",
       "\n",
       "Iran CO2 emissions from liquid fuel consumption (kt)  \\\n",
       "1960                                         21855.3   \n",
       "1961                                         19339.8   \n",
       "1962                                         18723.7   \n",
       "1963                                         20289.5   \n",
       "1964                                         23589.8   \n",
       "\n",
       "Iran CO2 emissions from solid fuel consumption (kt)  \n",
       "1960                                        612.389  \n",
       "1961                                        524.381  \n",
       "1962                                        542.716  \n",
       "1963                                        605.055  \n",
       "1964                                        726.066  "
      ]
     },
     "execution_count": 4,
     "metadata": {},
     "output_type": "execute_result"
    }
   ],
   "source": [
    "iran_csv = iran_csv.transpose()\n",
    "iran_csv = iran_csv.fillna(0)\n",
    "iran_csv.columns = iran_csv.ix[0,:]\n",
    "iran_csv = iran_csv.ix[1:,:] \n",
    "iran_csv.astype(np.float64)\n",
    "iran_csv.head(5)"
   ]
  },
  {
   "cell_type": "markdown",
   "metadata": {},
   "source": []
  },
  {
   "cell_type": "code",
   "execution_count": 5,
   "metadata": {
    "collapsed": false
   },
   "outputs": [
    {
     "data": {
      "text/html": [
       "<div>\n",
       "<table border=\"1\" class=\"dataframe\">\n",
       "  <thead>\n",
       "    <tr style=\"text-align: right;\">\n",
       "      <th>Turkey</th>\n",
       "      <th>CO2 emissions from gaseous fuel consumption (kt)</th>\n",
       "      <th>CO2 emissions from liquid fuel consumption (kt)</th>\n",
       "      <th>CO2 emissions from solid fuel consumption (kt)</th>\n",
       "    </tr>\n",
       "  </thead>\n",
       "  <tbody>\n",
       "    <tr>\n",
       "      <th>1960</th>\n",
       "      <td>0</td>\n",
       "      <td>4473.74</td>\n",
       "      <td>11331</td>\n",
       "    </tr>\n",
       "    <tr>\n",
       "      <th>1961</th>\n",
       "      <td>0</td>\n",
       "      <td>5720.52</td>\n",
       "      <td>10630.6</td>\n",
       "    </tr>\n",
       "    <tr>\n",
       "      <th>1962</th>\n",
       "      <td>0</td>\n",
       "      <td>8566.11</td>\n",
       "      <td>11906.7</td>\n",
       "    </tr>\n",
       "    <tr>\n",
       "      <th>1963</th>\n",
       "      <td>0</td>\n",
       "      <td>8353.43</td>\n",
       "      <td>12970.2</td>\n",
       "    </tr>\n",
       "    <tr>\n",
       "      <th>1964</th>\n",
       "      <td>0</td>\n",
       "      <td>10498.6</td>\n",
       "      <td>14371</td>\n",
       "    </tr>\n",
       "  </tbody>\n",
       "</table>\n",
       "</div>"
      ],
      "text/plain": [
       "Turkey CO2 emissions from gaseous fuel consumption (kt)  \\\n",
       "1960                                                  0   \n",
       "1961                                                  0   \n",
       "1962                                                  0   \n",
       "1963                                                  0   \n",
       "1964                                                  0   \n",
       "\n",
       "Turkey CO2 emissions from liquid fuel consumption (kt)  \\\n",
       "1960                                           4473.74   \n",
       "1961                                           5720.52   \n",
       "1962                                           8566.11   \n",
       "1963                                           8353.43   \n",
       "1964                                           10498.6   \n",
       "\n",
       "Turkey CO2 emissions from solid fuel consumption (kt)  \n",
       "1960                                            11331  \n",
       "1961                                          10630.6  \n",
       "1962                                          11906.7  \n",
       "1963                                          12970.2  \n",
       "1964                                            14371  "
      ]
     },
     "execution_count": 5,
     "metadata": {},
     "output_type": "execute_result"
    }
   ],
   "source": [
    "turkey_csv = turkey_csv.transpose()\n",
    "turkey_csv = turkey_csv.fillna(0)\n",
    "turkey_csv.columns = turkey_csv.ix[0,:]\n",
    "turkey_csv = turkey_csv.ix[1:,:] \n",
    "turkey_csv.astype(np.float64)\n",
    "turkey_csv.head(5)"
   ]
  },
  {
   "cell_type": "markdown",
   "metadata": {},
   "source": [
    "# Distribution plot for CO2 emssions from liquid fuel consumption\n"
   ]
  },
  {
   "cell_type": "code",
   "execution_count": 6,
   "metadata": {
    "collapsed": false
   },
   "outputs": [
    {
     "data": {
      "text/plain": [
       "<matplotlib.axes._subplots.AxesSubplot at 0x7f77495aba10>"
      ]
     },
     "execution_count": 6,
     "metadata": {},
     "output_type": "execute_result"
    },
    {
     "data": {
      "image/png": "[encoded data removed]",
      "text/plain": [
       "<matplotlib.figure.Figure at 0x7f774959d990>"
      ]
     },
     "metadata": {},
     "output_type": "display_data"
    }
   ],
   "source": [
    "#Iran (Blue)\n",
    "sns.distplot(iran_csv.ix[:,1])\n",
    "\n",
    "#Turkey (Green)\n",
    "sns.distplot(turkey_csv.ix[:,1])\n"
   ]
  },
  {
   "cell_type": "markdown",
   "metadata": {},
   "source": [
    " # Joint plot for CO2 emissions from solid fuel consumption in Iran and Turkey\n",
    " As there were no values for the gaseous column before 1978, I preferred to present my data using solid fuel emission values instead."
   ]
  },
  {
   "cell_type": "code",
   "execution_count": 8,
   "metadata": {
    "collapsed": false,
    "scrolled": true
   },
   "outputs": [
    {
     "data": {
      "image/png": "[encoded data removed]",
      "text/plain": [
       "<matplotlib.figure.Figure at 0x7f7746fbce90>"
      ]
     },
     "metadata": {},
     "output_type": "display_data"
    }
   ],
   "source": [
    "SOLID_FUEL_COLUMN_INDEX = 2\n",
    "a = sns.jointplot(iran_csv.ix[:,SOLID_FUEL_COLUMN_INDEX],\n",
    "              turkey_csv.ix[:,SOLID_FUEL_COLUMN_INDEX]).set_axis_labels(\n",
    "    \"IRAN: \" + iran_csv.columns[SOLID_FUEL_COLUMN_INDEX], \n",
    "    \"TURKEY: \" + turkey_csv.columns[SOLID_FUEL_COLUMN_INDEX])\n",
    "a.savefig(\"output.png\")"
   ]
  },
  {
   "cell_type": "code",
   "execution_count": null,
   "metadata": {
    "collapsed": true
   },
   "outputs": [],
   "source": []
  },
  {
   "cell_type": "markdown",
   "metadata": {},
   "source": [
    "# Conclusion\n",
    "\n",
    " In these graphs I visualised Iran's and Turkey's datasets of CO2 emmision from various sources by going through these steps: \n",
    " \n",
    " - I cleaned these datasets and kept the important rows \n",
    " - I altered the missing data values with zero\n",
    " - The last graph shows that since 1978 to 2013 Iran has made more polution from solid fuels than Turkey.\n"
   ]
  },
  {
   "cell_type": "code",
   "execution_count": null,
   "metadata": {
    "collapsed": true
   },
   "outputs": [],
   "source": []
  }
 ],
 "metadata": {
  "kernelspec": {
   "display_name": "Python 2",
   "language": "python",
   "name": "python2"
  },
  "language_info": {
   "codemirror_mode": {
    "name": "ipython",
    "version": 2
   },
   "file_extension": ".py",
   "mimetype": "text/x-python",
   "name": "python",
   "nbconvert_exporter": "python",
   "pygments_lexer": "ipython2",
   "version": "2.7.12"
  }
 },
 "nbformat": 4,
 "nbformat_minor": 1
}
